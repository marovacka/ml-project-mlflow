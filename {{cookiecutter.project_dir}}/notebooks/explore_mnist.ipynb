{
 "cells": [
  {
   "cell_type": "code",
   "execution_count": null,
   "id": "75457c7f",
   "metadata": {},
   "outputs": [],
   "source": [
    "%load_ext autoreload\n",
    "\n",
    "%autoreload 2\n",
    "\n",
    "import mnist_classification.helpers as helpers\n",
    "import mnist_classification.plot_helpers as plot_helpers\n",
    "import pandas as pd\n",
    "import numpy as np\n",
    "\n",
    "MNIST_FILEPATH = '../data/mnist.csv'\n",
    "\n",
    "%matplotlib notebook\n",
    "\n",
    "pd.set_option('display.max_columns', None)  # Show all columns"
   ]
  },
  {
   "cell_type": "code",
   "execution_count": null,
   "id": "ba44ea79",
   "metadata": {},
   "outputs": [],
   "source": [
    "mnist_df = pd.read_csv(MNIST_FILEPATH)"
   ]
  },
  {
   "cell_type": "code",
   "execution_count": null,
   "id": "95c717b3",
   "metadata": {},
   "outputs": [],
   "source": [
    "mnist_df.head()"
   ]
  },
  {
   "cell_type": "code",
   "execution_count": null,
   "id": "0d0be5d1",
   "metadata": {},
   "outputs": [],
   "source": [
    "which_image = 1\n",
    "image = mnist_df.iloc[which_image, :-1].values\n",
    "label = mnist_df.iloc[which_image, -1]\n",
    "image_to_display = helpers.reshape_flatten_images(image)\n",
    "\n",
    "image_to_display = np.squeeze(image_to_display, axis=0)\n",
    "plot_helpers.plot_image(image_to_display, label)"
   ]
  }
 ],
 "metadata": {
  "kernelspec": {
   "display_name": "my_project",
   "language": "python",
   "name": "my_project"
  },
  "language_info": {
   "codemirror_mode": {
    "name": "ipython",
    "version": 3
   },
   "file_extension": ".py",
   "mimetype": "text/x-python",
   "name": "python",
   "nbconvert_exporter": "python",
   "pygments_lexer": "ipython3",
   "version": "3.10.14"
  }
 },
 "nbformat": 4,
 "nbformat_minor": 5
}
