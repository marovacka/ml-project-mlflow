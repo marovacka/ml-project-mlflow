{
 "cells": [
  {
   "cell_type": "code",
   "execution_count": null,
   "id": "1706ce65",
   "metadata": {},
   "outputs": [],
   "source": [
    "from IPython.display import display, HTML\n",
    "display(HTML(\"<style>.container { width:100% !important; }</style>\"))\n",
    "import mlflow\n",
    "import os\n",
    "import requests\n",
    "from sklearn.metrics import f1_score\n",
    "import pandas as pd\n",
    "pd.set_option('display.max_columns', None)\n",
    "\n",
    "import {{cookiecutter.project_dir}}.helpers.helpers as helpers\n",
    "wine_dataset_df = helpers.get_wine_dataset()"
   ]
  },
  {
   "cell_type": "markdown",
   "id": "e17af8b7",
   "metadata": {},
   "source": [
    "#### Search Runs"
   ]
  },
  {
   "cell_type": "code",
   "execution_count": null,
   "id": "d9488081",
   "metadata": {},
   "outputs": [],
   "source": [
    "mlflow.set_tracking_uri(\"http://127.0.0.1:5000/\")\n",
    "runs = mlflow.search_runs(experiment_ids=['1'])\n",
    "display(runs)\n",
    "runs['metrics.val_f1_score']"
   ]
  },
  {
   "cell_type": "markdown",
   "id": "62d3b9da",
   "metadata": {},
   "source": [
    "#### Get Ordered Runs"
   ]
  },
  {
   "cell_type": "code",
   "execution_count": null,
   "id": "ff3d3bde",
   "metadata": {},
   "outputs": [],
   "source": [
    "ordered_runs = mlflow.search_runs(experiment_ids=['1'], order_by=[\"metrics.val_f1_score DESC\"])\n",
    "display(ordered_runs)\n",
    "ordered_runs['metrics.val_f1_score']"
   ]
  },
  {
   "cell_type": "markdown",
   "id": "9557d3f4",
   "metadata": {},
   "source": [
    "#### Make Inference with Selected Model"
   ]
  },
  {
   "cell_type": "code",
   "execution_count": null,
   "id": "3bb5fb26",
   "metadata": {},
   "outputs": [],
   "source": [
    "which_run = 4\n",
    "model_uri = f\"runs:/{ordered_runs.iloc[which_run, :].run_id}/train/model\"\n",
    "print(model_uri)\n",
    "model = mlflow.pyfunc.load_model(model_uri)\n",
    "y_true = wine_dataset_df['is_red']\n",
    "y_pred = model.predict(wine_dataset_df)\n",
    "print(f'f1_score: {f1_score(y_true, y_pred)}')"
   ]
  },
  {
   "cell_type": "markdown",
   "id": "43b454bd",
   "metadata": {},
   "source": [
    "#### Make Inference with Request to REST API"
   ]
  },
  {
   "cell_type": "code",
   "execution_count": null,
   "id": "de245a8d",
   "metadata": {},
   "outputs": [],
   "source": [
    "url = 'http://127.0.0.1:5001/invocations'\n",
    "\n",
    "headers = {\n",
    "    \"Content-Type\": \"application/json\"\n",
    "}\n",
    "json_data = wine_dataset_df.drop(columns=['is_red']).to_dict(orient='records')\n",
    "payload = {\n",
    "    'dataframe_records': json_data\n",
    "}\n",
    "\n",
    "response = requests.post(url, json=payload, headers=headers)\n",
    "\n",
    "print(response.status_code)\n",
    "print(response.json())\n",
    "\n",
    "y_pred_rest_api = response.json()['predictions']\n",
    "print(f'f1_score: {f1_score(y_true, y_pred_rest_api)}')"
   ]
  }
 ],
 "metadata": {
  "kernelspec": {
   "display_name": "devtalks",
   "language": "python",
   "name": "devtalks"
  },
  "language_info": {
   "codemirror_mode": {
    "name": "ipython",
    "version": 3
   },
   "file_extension": ".py",
   "mimetype": "text/x-python",
   "name": "python",
   "nbconvert_exporter": "python",
   "pygments_lexer": "ipython3",
   "version": "3.10.15"
  }
 },
 "nbformat": 4,
 "nbformat_minor": 5
}
