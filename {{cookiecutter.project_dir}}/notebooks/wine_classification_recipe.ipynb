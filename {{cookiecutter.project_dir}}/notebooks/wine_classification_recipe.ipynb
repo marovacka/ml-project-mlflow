{
 "cells": [
  {
   "cell_type": "markdown",
   "id": "b06f1d00",
   "metadata": {},
   "source": [
    "# Wine Classification Recipe\n",
    "This notebook runs a mlflow recipe taken from [here](https://github.com/mlflow/recipes-examples/tree/main/classification)."
   ]
  },
  {
   "cell_type": "code",
   "execution_count": null,
   "id": "9ff8af49",
   "metadata": {},
   "outputs": [],
   "source": [
    "from IPython.display import display, HTML\n",
    "display(HTML(\"<style>.container { width:100% !important; }</style>\"))\n",
    "\n",
    "%load_ext autoreload\n",
    "%autoreload 2\n",
    "\n",
    "import os\n",
    "from mlflow.recipes import Recipe\n",
    "\n",
    "os.chdir(\"../recipes/wine_recipe/\")"
   ]
  },
  {
   "cell_type": "markdown",
   "id": "deaecdc4",
   "metadata": {},
   "source": [
    "#### Create recipe from local profile."
   ]
  },
  {
   "cell_type": "code",
   "execution_count": null,
   "id": "e2f37747",
   "metadata": {},
   "outputs": [],
   "source": [
    "r = Recipe(profile=\"local\")\n",
    "r.inspect()"
   ]
  },
  {
   "cell_type": "markdown",
   "id": "c150f7cc",
   "metadata": {},
   "source": [
    "#### Run steps individually."
   ]
  },
  {
   "cell_type": "code",
   "execution_count": null,
   "id": "17b782fa",
   "metadata": {},
   "outputs": [],
   "source": [
    "r.run(\"ingest\")"
   ]
  },
  {
   "cell_type": "code",
   "execution_count": null,
   "id": "9dcb6830",
   "metadata": {},
   "outputs": [],
   "source": [
    "r.run(\"split\")"
   ]
  },
  {
   "cell_type": "markdown",
   "id": "f239530d",
   "metadata": {},
   "source": [
    "Get training data after split step."
   ]
  },
  {
   "cell_type": "code",
   "execution_count": null,
   "id": "5255773e",
   "metadata": {},
   "outputs": [],
   "source": [
    "training_data = r.get_artifact(\"training_data\")\n",
    "training_data.describe()"
   ]
  },
  {
   "cell_type": "code",
   "execution_count": null,
   "id": "ad03b296",
   "metadata": {},
   "outputs": [],
   "source": [
    "r.run(\"transform\")"
   ]
  },
  {
   "cell_type": "code",
   "execution_count": null,
   "id": "992898b5",
   "metadata": {},
   "outputs": [],
   "source": [
    "r.run(\"train\")"
   ]
  },
  {
   "cell_type": "markdown",
   "id": "29a3fdf5",
   "metadata": {},
   "source": [
    "Get trained model."
   ]
  },
  {
   "cell_type": "code",
   "execution_count": null,
   "id": "2797bebf",
   "metadata": {},
   "outputs": [],
   "source": [
    "trained_model = r.get_artifact(\"model\")\n",
    "print(trained_model)"
   ]
  },
  {
   "cell_type": "code",
   "execution_count": null,
   "id": "882a7567",
   "metadata": {},
   "outputs": [],
   "source": [
    "r.run(\"evaluate\")"
   ]
  },
  {
   "cell_type": "code",
   "execution_count": null,
   "id": "7bbccd5b",
   "metadata": {},
   "outputs": [],
   "source": [
    "r.run(\"register\")"
   ]
  },
  {
   "cell_type": "markdown",
   "id": "38b832d0",
   "metadata": {},
   "source": [
    "#### Run steps altogether."
   ]
  },
  {
   "cell_type": "code",
   "execution_count": null,
   "id": "870c6d8c",
   "metadata": {},
   "outputs": [],
   "source": [
    "r.run()"
   ]
  },
  {
   "cell_type": "markdown",
   "id": "e548ba34",
   "metadata": {},
   "source": [
    "Now you can explore the results using mlflow ui.\n",
    "\n",
    "Type following command in terminal\n",
    "\n",
    "`mlflow ui  --backend-store-uri sqlite:///recipes/metadata/mlflow/mlruns.db   --default-artifact-root ./recipes/metadata/mlflow/mlartifacts  --host localhost`\n"
   ]
  }
 ],
 "metadata": {
  "kernelspec": {
   "display_name": "mnist",
   "language": "python",
   "name": "mnist"
  },
  "language_info": {
   "codemirror_mode": {
    "name": "ipython",
    "version": 3
   },
   "file_extension": ".py",
   "mimetype": "text/x-python",
   "name": "python",
   "nbconvert_exporter": "python",
   "pygments_lexer": "ipython3",
   "version": "3.10.14"
  }
 },
 "nbformat": 4,
 "nbformat_minor": 5
}
